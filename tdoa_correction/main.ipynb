{
 "cells": [
  {
   "cell_type": "code",
   "execution_count": 2,
   "metadata": {},
   "outputs": [],
   "source": [
    "from sympy import *"
   ]
  },
  {
   "cell_type": "code",
   "execution_count": 14,
   "metadata": {},
   "outputs": [
    {
     "data": {
      "text/latex": [
       "$\\displaystyle \\left\\{x\\; \\middle|\\; x \\in \\left\\{- \\frac{d \\left(- d^{2} + tdoa^{2} + z_{1}^{2} - z_{2}^{2}\\right)}{2 \\left(d - tdoa\\right) \\left(d + tdoa\\right)} - \\frac{tdoa \\sqrt{\\left(d^{2} - tdoa^{2} + z_{1}^{2} - 2 z_{1} z_{2} + z_{2}^{2}\\right) \\left(d^{2} - tdoa^{2} + z_{1}^{2} + 2 z_{1} z_{2} + z_{2}^{2}\\right)}}{2 \\left(d^{2} - tdoa^{2}\\right)}, - \\frac{d \\left(- d^{2} + tdoa^{2} + z_{1}^{2} - z_{2}^{2}\\right)}{2 \\left(d - tdoa\\right) \\left(d + tdoa\\right)} + \\frac{tdoa \\sqrt{\\left(d^{2} - tdoa^{2} + z_{1}^{2} - 2 z_{1} z_{2} + z_{2}^{2}\\right) \\left(d^{2} - tdoa^{2} + z_{1}^{2} + 2 z_{1} z_{2} + z_{2}^{2}\\right)}}{2 \\left(d^{2} - tdoa^{2}\\right)}\\right\\} \\wedge - x^{2} - z_{1}^{2} + \\left(tdoa + \\sqrt{z_{2}^{2} + \\left(d - x\\right)^{2}}\\right)^{2} = 0 \\right\\}$"
      ],
      "text/plain": [
       "ConditionSet(x, Eq(-x**2 - z1**2 + (tdoa + sqrt(z2**2 + (d - x)**2))**2, 0), {-d*(-d**2 + tdoa**2 + z1**2 - z2**2)/(2*(d - tdoa)*(d + tdoa)) - tdoa*sqrt((d**2 - tdoa**2 + z1**2 - 2*z1*z2 + z2**2)*(d**2 - tdoa**2 + z1**2 + 2*z1*z2 + z2**2))/(2*(d**2 - tdoa**2)), -d*(-d**2 + tdoa**2 + z1**2 - z2**2)/(2*(d - tdoa)*(d + tdoa)) + tdoa*sqrt((d**2 - tdoa**2 + z1**2 - 2*z1*z2 + z2**2)*(d**2 - tdoa**2 + z1**2 + 2*z1*z2 + z2**2))/(2*(d**2 - tdoa**2))})"
      ]
     },
     "execution_count": 14,
     "metadata": {},
     "output_type": "execute_result"
    }
   ],
   "source": [
    "z1, z2, d, tdoa, l, x, y= symbols('z1 z2 d tdoa l x y', real=True)\n",
    "eq = Eq((tdoa + sqrt((d-x)**2 + z2**2))**2, x**2 + z1**2)\n",
    "solveset(eq, symbol=x)"
   ]
  },
  {
   "cell_type": "code",
   "execution_count": 10,
   "metadata": {},
   "outputs": [
    {
     "ename": "NameError",
     "evalue": "name 'sqrt' is not defined",
     "output_type": "error",
     "traceback": [
      "\u001b[1;31m---------------------------------------------------------------------------\u001b[0m",
      "\u001b[1;31mNameError\u001b[0m                                 Traceback (most recent call last)",
      "Cell \u001b[1;32mIn [10], line 15\u001b[0m\n\u001b[0;32m     11\u001b[0m z2 \u001b[39m=\u001b[39m \u001b[39m9207\u001b[39m\n\u001b[0;32m     13\u001b[0m d \u001b[39m=\u001b[39m ((x1 \u001b[39m-\u001b[39mx2)\u001b[39m*\u001b[39m\u001b[39m*\u001b[39m\u001b[39m2\u001b[39m \u001b[39m+\u001b[39m (y1\u001b[39m-\u001b[39my2)\u001b[39m*\u001b[39m\u001b[39m*\u001b[39m\u001b[39m2\u001b[39m)\u001b[39m*\u001b[39m\u001b[39m*\u001b[39m(\u001b[39m1\u001b[39m\u001b[39m/\u001b[39m\u001b[39m2\u001b[39m)\n\u001b[1;32m---> 15\u001b[0m xsol1 \u001b[39m=\u001b[39m \u001b[39m-\u001b[39md\u001b[39m*\u001b[39m(\u001b[39m-\u001b[39md\u001b[39m*\u001b[39m\u001b[39m*\u001b[39m\u001b[39m2\u001b[39m \u001b[39m+\u001b[39m tdoa\u001b[39m*\u001b[39m\u001b[39m*\u001b[39m\u001b[39m2\u001b[39m \u001b[39m+\u001b[39m z1\u001b[39m*\u001b[39m\u001b[39m*\u001b[39m\u001b[39m2\u001b[39m \u001b[39m-\u001b[39m z2\u001b[39m*\u001b[39m\u001b[39m*\u001b[39m\u001b[39m2\u001b[39m)\u001b[39m/\u001b[39m(\u001b[39m2\u001b[39m\u001b[39m*\u001b[39m(d \u001b[39m-\u001b[39m tdoa)\u001b[39m*\u001b[39m(d \u001b[39m+\u001b[39m tdoa)) \u001b[39m-\u001b[39m tdoa\u001b[39m*\u001b[39msqrt((d\u001b[39m*\u001b[39m\u001b[39m*\u001b[39m\u001b[39m2\u001b[39m \u001b[39m-\u001b[39m tdoa\u001b[39m*\u001b[39m\u001b[39m*\u001b[39m\u001b[39m2\u001b[39m \u001b[39m+\u001b[39m z1\u001b[39m*\u001b[39m\u001b[39m*\u001b[39m\u001b[39m2\u001b[39m \u001b[39m-\u001b[39m \u001b[39m2\u001b[39m\u001b[39m*\u001b[39mz1\u001b[39m*\u001b[39mz2 \u001b[39m+\u001b[39m z2\u001b[39m*\u001b[39m\u001b[39m*\u001b[39m\u001b[39m2\u001b[39m)\u001b[39m*\u001b[39m(d\u001b[39m*\u001b[39m\u001b[39m*\u001b[39m\u001b[39m2\u001b[39m \u001b[39m-\u001b[39m tdoa\u001b[39m*\u001b[39m\u001b[39m*\u001b[39m\u001b[39m2\u001b[39m \u001b[39m+\u001b[39m z1\u001b[39m*\u001b[39m\u001b[39m*\u001b[39m\u001b[39m2\u001b[39m \u001b[39m+\u001b[39m \u001b[39m2\u001b[39m\u001b[39m*\u001b[39mz1\u001b[39m*\u001b[39mz2 \u001b[39m+\u001b[39m z2\u001b[39m*\u001b[39m\u001b[39m*\u001b[39m\u001b[39m2\u001b[39m))\u001b[39m/\u001b[39m(\u001b[39m2\u001b[39m\u001b[39m*\u001b[39m(d\u001b[39m*\u001b[39m\u001b[39m*\u001b[39m\u001b[39m2\u001b[39m \u001b[39m-\u001b[39m tdoa\u001b[39m*\u001b[39m\u001b[39m*\u001b[39m\u001b[39m2\u001b[39m))\n\u001b[0;32m     16\u001b[0m xsol2 \u001b[39m=\u001b[39m \u001b[39m-\u001b[39md\u001b[39m*\u001b[39m(\u001b[39m-\u001b[39md\u001b[39m*\u001b[39m\u001b[39m*\u001b[39m\u001b[39m2\u001b[39m \u001b[39m+\u001b[39m tdoa\u001b[39m*\u001b[39m\u001b[39m*\u001b[39m\u001b[39m2\u001b[39m \u001b[39m+\u001b[39m z1\u001b[39m*\u001b[39m\u001b[39m*\u001b[39m\u001b[39m2\u001b[39m \u001b[39m-\u001b[39m z2\u001b[39m*\u001b[39m\u001b[39m*\u001b[39m\u001b[39m2\u001b[39m)\u001b[39m/\u001b[39m(\u001b[39m2\u001b[39m\u001b[39m*\u001b[39m(d \u001b[39m-\u001b[39m tdoa)\u001b[39m*\u001b[39m(d \u001b[39m+\u001b[39m tdoa)) \u001b[39m+\u001b[39m tdoa\u001b[39m*\u001b[39msqrt((d\u001b[39m*\u001b[39m\u001b[39m*\u001b[39m\u001b[39m2\u001b[39m \u001b[39m-\u001b[39m tdoa\u001b[39m*\u001b[39m\u001b[39m*\u001b[39m\u001b[39m2\u001b[39m \u001b[39m+\u001b[39m z1\u001b[39m*\u001b[39m\u001b[39m*\u001b[39m\u001b[39m2\u001b[39m \u001b[39m-\u001b[39m \u001b[39m2\u001b[39m\u001b[39m*\u001b[39mz1\u001b[39m*\u001b[39mz2 \u001b[39m+\u001b[39m z2\u001b[39m*\u001b[39m\u001b[39m*\u001b[39m\u001b[39m2\u001b[39m)\u001b[39m*\u001b[39m(d\u001b[39m*\u001b[39m\u001b[39m*\u001b[39m\u001b[39m2\u001b[39m \u001b[39m-\u001b[39m tdoa\u001b[39m*\u001b[39m\u001b[39m*\u001b[39m\u001b[39m2\u001b[39m \u001b[39m+\u001b[39m z1\u001b[39m*\u001b[39m\u001b[39m*\u001b[39m\u001b[39m2\u001b[39m \u001b[39m+\u001b[39m \u001b[39m2\u001b[39m\u001b[39m*\u001b[39mz1\u001b[39m*\u001b[39mz2 \u001b[39m+\u001b[39m z2\u001b[39m*\u001b[39m\u001b[39m*\u001b[39m\u001b[39m2\u001b[39m))\u001b[39m/\u001b[39m(\u001b[39m2\u001b[39m\u001b[39m*\u001b[39m(d\u001b[39m*\u001b[39m\u001b[39m*\u001b[39m\u001b[39m2\u001b[39m \u001b[39m-\u001b[39m tdoa\u001b[39m*\u001b[39m\u001b[39m*\u001b[39m\u001b[39m2\u001b[39m))\n\u001b[0;32m     18\u001b[0m luftlinie \u001b[39m=\u001b[39m ( (z2\u001b[39m-\u001b[39mz1)\u001b[39m*\u001b[39m\u001b[39m*\u001b[39m\u001b[39m2\u001b[39m \u001b[39m+\u001b[39m (x2\u001b[39m-\u001b[39mx1)\u001b[39m*\u001b[39m\u001b[39m*\u001b[39m\u001b[39m2\u001b[39m \u001b[39m+\u001b[39m (y2\u001b[39m-\u001b[39my1)\u001b[39m*\u001b[39m\u001b[39m*\u001b[39m\u001b[39m2\u001b[39m )\u001b[39m*\u001b[39m\u001b[39m*\u001b[39m(\u001b[39m1\u001b[39m\u001b[39m/\u001b[39m\u001b[39m2\u001b[39m)\n",
      "\u001b[1;31mNameError\u001b[0m: name 'sqrt' is not defined"
     ]
    }
   ],
   "source": [
    "SPEED_OF_LIGHT = 299702547\n",
    "tdoa = 2.9926707611593883e-05\n",
    "tdoa = tdoa * SPEED_OF_LIGHT\n",
    "\n",
    "x1 = 55824\n",
    "y1 = 101012\n",
    "z1 = 1004\n",
    "\n",
    "x2 = 54642\n",
    "y2 = 83676\n",
    "z2 = 9207\n",
    "\n",
    "d = ((x1 -x2)**2 + (y1-y2)**2)**(1/2)\n",
    "\n",
    "xsol1 = -d*(-d**2 + tdoa**2 + z1**2 - z2**2)/(2*(d - tdoa)*(d + tdoa)) - tdoa*sqrt((d**2 - tdoa**2 + z1**2 - 2*z1*z2 + z2**2)*(d**2 - tdoa**2 + z1**2 + 2*z1*z2 + z2**2))/(2*(d**2 - tdoa**2))\n",
    "xsol2 = -d*(-d**2 + tdoa**2 + z1**2 - z2**2)/(2*(d - tdoa)*(d + tdoa)) + tdoa*sqrt((d**2 - tdoa**2 + z1**2 - 2*z1*z2 + z2**2)*(d**2 - tdoa**2 + z1**2 + 2*z1*z2 + z2**2))/(2*(d**2 - tdoa**2))\n",
    "\n",
    "luftlinie = ( (z2-z1)**2 + (x2-x1)**2 + (y2-y1)**2 )**(1/2)\n",
    "\n",
    "theta = atan( (z1-z2)/d )\n",
    "\n",
    "delta_l = (d- xsol2)/cos(theta)\n",
    "\n",
    "tdoa_correct = luftlinie - (delta_l*2)\n",
    "\n",
    "print(f\"d = {d}\")\n",
    "print(f\"xsol1 = {xsol1}\")\n",
    "print(f\"xsol2 = {xsol2}\")\n",
    "print(f\"luftlinie = {luftlinie}\")\n",
    "print(f\"theta = {theta}\")\n",
    "print(f\"delta_l = {delta_l}\")\n",
    "print(f\"tdoa_correct = {tdoa_correct}\")\n",
    "\n"
   ]
  }
 ],
 "metadata": {
  "kernelspec": {
   "display_name": "Python 3.8.6 ('test-iEFYMiDW')",
   "language": "python",
   "name": "python3"
  },
  "language_info": {
   "codemirror_mode": {
    "name": "ipython",
    "version": 3
   },
   "file_extension": ".py",
   "mimetype": "text/x-python",
   "name": "python",
   "nbconvert_exporter": "python",
   "pygments_lexer": "ipython3",
   "version": "3.8.6"
  },
  "orig_nbformat": 4,
  "vscode": {
   "interpreter": {
    "hash": "43582f2660b253eaeaa5d61c010ef14b988e6aca0572a405be0dac891cb4f0f3"
   }
  }
 },
 "nbformat": 4,
 "nbformat_minor": 2
}
